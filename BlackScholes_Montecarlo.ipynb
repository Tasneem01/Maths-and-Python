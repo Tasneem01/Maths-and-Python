{
 "cells": [
  {
   "cell_type": "code",
   "execution_count": 65,
   "id": "ec5e7db8",
   "metadata": {},
   "outputs": [],
   "source": [
    "import numpy as np\n",
    "import matplotlib.pyplot as plt"
   ]
  },
  {
   "cell_type": "code",
   "execution_count": 100,
   "id": "8bbc95ce",
   "metadata": {},
   "outputs": [],
   "source": [
    "mu = 0.001\n",
    "sigma = 0.01\n",
    "start_price = 58000"
   ]
  },
  {
   "cell_type": "code",
   "execution_count": 101,
   "id": "cc4d1f91",
   "metadata": {},
   "outputs": [],
   "source": [
    "np.random.seed(0)\n",
    "returns = np.random.normal(loc=mu, scale=sigma, size=100)\n",
    "price = start_price*(1+returns).cumprod()"
   ]
  },
  {
   "cell_type": "code",
   "execution_count": 102,
   "id": "8ee63194",
   "metadata": {},
   "outputs": [
    {
     "data": {
      "text/plain": [
       "array([59081.15036066, 59376.64899298, 60017.16745935, 61422.10525076,\n",
       "       62630.62079034, 62081.17620812, 62733.08344894, 62700.86548861,\n",
       "       62698.84724067, 63018.98661542, 63172.78040086, 64154.65819024,\n",
       "       64707.0539997 , 64850.49337233, 65203.19136203, 65485.9608636 ,\n",
       "       66529.85886158, 66459.89721712, 66734.42158707, 66231.18015724,\n",
       "       64606.53605307, 65093.42292264, 65721.20745638, 65299.16885111,\n",
       "       66846.59892438, 65941.25153391, 66037.36652444, 65979.79260585,\n",
       "       67057.09694519, 68109.46337694, 68283.10670048, 68609.61092394,\n",
       "       68069.11418758, 66788.87269198, 66623.29496218, 66794.083092  ,\n",
       "       67682.63855465, 68564.12360031, 68367.12048609, 68228.81192086,\n",
       "       67581.62550235, 66689.53592348, 65618.32178768, 66964.00618566,\n",
       "       66689.68667334, 66464.22598087, 65698.02946767, 66274.52334022,\n",
       "       65271.19475789, 65197.60783002, 64678.98266104, 64993.9062432 ,\n",
       "       64726.90793725, 64027.44813829, 64073.4312248 , 64411.9515825 ,\n",
       "       64519.20857516, 64778.88025832, 64432.75238906, 64263.46102415,\n",
       "       63895.57812742, 63729.7351343 , 63275.24889764, 62246.21453323,\n",
       "       62418.90180491, 62230.53345867, 61278.28286438, 61623.14616683,\n",
       "       61125.66351574, 61218.54114711, 61726.09829406, 61867.44051063,\n",
       "       62634.22599183, 61923.4366229 , 62234.5038307 , 61870.55017225,\n",
       "       61393.65373534, 61099.67043024, 60970.41253033, 61065.62718371,\n",
       "       60415.18675299, 61019.83794416, 61365.00424819, 60483.65324909,\n",
       "       61444.28619871, 62670.64605624, 63472.06547512, 63421.335531  ,\n",
       "       62805.67125374, 63530.73241014, 63338.12187523, 64175.73374564,\n",
       "       64373.57147478, 65066.64247445, 65363.58476647, 65890.78990297,\n",
       "       65963.59923947, 67207.58729424, 67360.08943703, 67698.22992121])"
      ]
     },
     "execution_count": 102,
     "metadata": {},
     "output_type": "execute_result"
    }
   ],
   "source": [
    "price"
   ]
  },
  {
   "cell_type": "code",
   "execution_count": 1,
   "id": "1c1ef097",
   "metadata": {},
   "outputs": [
    {
     "name": "stdout",
     "output_type": "stream",
     "text": [
      "Collecting QFin\n",
      "  Downloading QFin-0.0.21-py3-none-any.whl (8.3 kB)\n",
      "Requirement already satisfied: numpy in d:\\mine\\bot\\bot\\lib\\site-packages (from QFin) (1.19.5)\n",
      "Requirement already satisfied: scipy in d:\\mine\\bot\\bot\\lib\\site-packages (from QFin) (1.5.4)\n",
      "Installing collected packages: QFin\n",
      "Successfully installed QFin-0.0.21\n",
      "Note: you may need to restart the kernel to use updated packages.\n"
     ]
    },
    {
     "name": "stderr",
     "output_type": "stream",
     "text": [
      "WARNING: Ignoring invalid distribution -ip (d:\\mine\\bot\\bot\\lib\\site-packages)\n",
      "WARNING: Ignoring invalid distribution -illow (d:\\mine\\bot\\bot\\lib\\site-packages)\n",
      "WARNING: Ignoring invalid distribution -ip (d:\\mine\\bot\\bot\\lib\\site-packages)\n",
      "WARNING: Ignoring invalid distribution -illow (d:\\mine\\bot\\bot\\lib\\site-packages)\n",
      "WARNING: Ignoring invalid distribution -ip (d:\\mine\\bot\\bot\\lib\\site-packages)\n",
      "WARNING: Ignoring invalid distribution -illow (d:\\mine\\bot\\bot\\lib\\site-packages)\n",
      "WARNING: Ignoring invalid distribution -ip (d:\\mine\\bot\\bot\\lib\\site-packages)\n",
      "WARNING: Ignoring invalid distribution -illow (d:\\mine\\bot\\bot\\lib\\site-packages)\n",
      "WARNING: Ignoring invalid distribution -ip (d:\\mine\\bot\\bot\\lib\\site-packages)\n",
      "WARNING: Ignoring invalid distribution -illow (d:\\mine\\bot\\bot\\lib\\site-packages)\n",
      "WARNING: Ignoring invalid distribution -ip (d:\\mine\\bot\\bot\\lib\\site-packages)\n",
      "WARNING: Ignoring invalid distribution -illow (d:\\mine\\bot\\bot\\lib\\site-packages)\n",
      "WARNING: Ignoring invalid distribution -ip (d:\\mine\\bot\\bot\\lib\\site-packages)\n",
      "WARNING: Ignoring invalid distribution -illow (d:\\mine\\bot\\bot\\lib\\site-packages)\n",
      "WARNING: You are using pip version 21.2.2; however, version 21.3.1 is available.\n",
      "You should consider upgrading via the 'D:\\Mine\\Bot\\bot\\Scripts\\python.exe -m pip install --upgrade pip' command.\n"
     ]
    }
   ],
   "source": [
    "pip install QFin"
   ]
  },
  {
   "cell_type": "code",
   "execution_count": 1,
   "id": "73cf2886",
   "metadata": {},
   "outputs": [
    {
     "name": "stdout",
     "output_type": "stream",
     "text": [
      "Requirement already satisfied: qfin in d:\\mine\\bot\\bot\\lib\\site-packages (0.0.21)\n",
      "Requirement already satisfied: scipy in d:\\mine\\bot\\bot\\lib\\site-packages (from qfin) (1.5.4)\n",
      "Requirement already satisfied: numpy in d:\\mine\\bot\\bot\\lib\\site-packages (from qfin) (1.19.5)\n",
      "Note: you may need to restart the kernel to use updated packages.\n"
     ]
    },
    {
     "name": "stderr",
     "output_type": "stream",
     "text": [
      "WARNING: Ignoring invalid distribution -ip (d:\\mine\\bot\\bot\\lib\\site-packages)\n",
      "WARNING: Ignoring invalid distribution -illow (d:\\mine\\bot\\bot\\lib\\site-packages)\n",
      "WARNING: Ignoring invalid distribution -ip (d:\\mine\\bot\\bot\\lib\\site-packages)\n",
      "WARNING: Ignoring invalid distribution -illow (d:\\mine\\bot\\bot\\lib\\site-packages)\n",
      "WARNING: Ignoring invalid distribution -ip (d:\\mine\\bot\\bot\\lib\\site-packages)\n",
      "WARNING: Ignoring invalid distribution -illow (d:\\mine\\bot\\bot\\lib\\site-packages)\n",
      "WARNING: Ignoring invalid distribution -ip (d:\\mine\\bot\\bot\\lib\\site-packages)\n",
      "WARNING: Ignoring invalid distribution -illow (d:\\mine\\bot\\bot\\lib\\site-packages)\n",
      "WARNING: Ignoring invalid distribution -ip (d:\\mine\\bot\\bot\\lib\\site-packages)\n",
      "WARNING: Ignoring invalid distribution -illow (d:\\mine\\bot\\bot\\lib\\site-packages)\n",
      "WARNING: Ignoring invalid distribution -ip (d:\\mine\\bot\\bot\\lib\\site-packages)\n",
      "WARNING: Ignoring invalid distribution -illow (d:\\mine\\bot\\bot\\lib\\site-packages)\n",
      "WARNING: You are using pip version 21.2.2; however, version 21.3.1 is available.\n",
      "You should consider upgrading via the 'D:\\Mine\\Bot\\bot\\Scripts\\python.exe -m pip install --upgrade pip' command.\n"
     ]
    }
   ],
   "source": [
    "pip install qfin"
   ]
  },
  {
   "cell_type": "code",
   "execution_count": 14,
   "id": "662c7230",
   "metadata": {},
   "outputs": [],
   "source": [
    "from qfin.options import BlackScholesCall\n",
    "from qfin.options import BlackScholesPut\n",
    "# 100 - initial underlying asset price\n",
    "# .3 - asset underlying volatility\n",
    "# 100 - option strike price\n",
    "# 1 - time to maturity (annum)\n",
    "# .01 - risk free rate of interest\n",
    "euro_call = BlackScholesCall(40000, .4, 38000, 60, .01)\n",
    "euro_put = BlackScholesPut(40000, .4, 38000, 60, .01)\n",
    "\n",
    "\n",
    "\n",
    "# buy price is the inituial price of the asset.\n",
    "# blackscoles call would be to buy the stock / asset /hodl\n",
    "# blacksholes sell would be to sell the stock /etc\n"
   ]
  },
  {
   "cell_type": "code",
   "execution_count": 15,
   "id": "e23624ce",
   "metadata": {},
   "outputs": [
    {
     "name": "stdout",
     "output_type": "stream",
     "text": [
      "Call price:  36344.6152248213\n",
      "Put price:  17123.284866380465\n"
     ]
    }
   ],
   "source": [
    "print('Call price: ', euro_call.price)\n",
    "print('Put price: ', euro_put.price)"
   ]
  },
  {
   "cell_type": "code",
   "execution_count": 3,
   "id": "42986073",
   "metadata": {},
   "outputs": [
    {
     "name": "stdout",
     "output_type": "stream",
     "text": [
      "Call delta:  0.9980869993245807\n",
      "Put delta:  -0.0019130006754193296\n"
     ]
    }
   ],
   "source": [
    "print('Call delta: ', euro_call.delta)\n",
    "print('Put delta: ', euro_put.delta)"
   ]
  },
  {
   "cell_type": "code",
   "execution_count": 26,
   "id": "53d347ae",
   "metadata": {},
   "outputs": [
    {
     "name": "stdout",
     "output_type": "stream",
     "text": [
      "Call gamma:  3.2827760213542816e-06\n",
      "Put gamma:  3.2827760213542816e-06\n"
     ]
    }
   ],
   "source": [
    "print('Call gamma: ', euro_call.gamma)\n",
    "print('Put gamma: ', euro_put.gamma)"
   ]
  },
  {
   "cell_type": "code",
   "execution_count": 14,
   "id": "e7e0ef25",
   "metadata": {},
   "outputs": [
    {
     "name": "stdout",
     "output_type": "stream",
     "text": [
      "Call vega:  89337.19325174278\n",
      "Put vega:  89337.19325174278\n"
     ]
    }
   ],
   "source": [
    "print('Call vega: ', euro_call.vega)\n",
    "print('Put vega: ', euro_put.vega)"
   ]
  },
  {
   "cell_type": "code",
   "execution_count": 15,
   "id": "302a49a0",
   "metadata": {},
   "outputs": [
    {
     "name": "stdout",
     "output_type": "stream",
     "text": [
      "Call theta:  -261.55918360241003\n",
      "Put theta:  50.05606337177821\n"
     ]
    }
   ],
   "source": [
    "print('Call theta: ', euro_call.theta)\n",
    "print('Put theta: ', euro_put.theta)"
   ]
  },
  {
   "cell_type": "code",
   "execution_count": 3,
   "id": "34a440e9",
   "metadata": {},
   "outputs": [
    {
     "name": "stdout",
     "output_type": "stream",
     "text": [
      "[55777.038528995625, 54980.89370742101, 56968.166815541554, 53450.7410483138, 60127.80933971135, 67078.86937409246, 55402.495721786356, 54366.4093573637, 47965.02677252857, 42596.84617913072, 46280.62638521431, 40774.79465231287, 43372.685983922354, 41479.76190319593, 42667.34708191819, 44314.24975716081, 42942.6309889464, 41179.07197770294, 36936.868578497466, 36385.548696377904, 38357.716956060685, 37344.257127966805, 40586.96943560041, 42548.60608538535, 42751.25669198823, 44232.635423903586, 44834.45883475104, 50024.0232098954, 52042.399714518084, 48542.92293711513, 48816.56282979154, 49089.778061231205, 50582.368735332806, 55016.67195090021, 51236.84290491627, 44598.08941937267, 47511.24598200069, 47135.33696563989, 43502.68586558838, 42952.589749540064, 43012.24361698026, 40878.068448310325, 48685.840155619946, 38605.46073484807, 40475.75433940673, 38613.95400815879, 37290.51460753002, 43828.51722592933, 47859.74456765703, 49073.58502717829, 47701.81191867378, 43708.91551522728, 37714.48437340284, 37316.6317113026, 40511.197083603045, 34348.28007679631, 32660.447551081088, 37269.70343551546, 37084.42290155688, 32912.57900900852, 34490.71724996013]\n"
     ]
    }
   ],
   "source": [
    "from qfin.simulations import GeometricBrownianMotion\n",
    "# 100 - initial underlying asset price\n",
    "# 0 - underlying asset drift (mu)\n",
    "# .3 - underlying asset volatility\n",
    "# 1/52 - time steps (dt)\n",
    "# 1 - time to maturity (annum)\n",
    "gbm = GeometricBrownianMotion(56780, 0, .69, 1/60, 1)\n",
    "print(gbm.simulated_path)"
   ]
  },
  {
   "cell_type": "code",
   "execution_count": 18,
   "id": "e256bab0",
   "metadata": {},
   "outputs": [
    {
     "name": "stdout",
     "output_type": "stream",
     "text": [
      "[55393.11511870804, 54462.58928348403, 53421.03301217003, 50412.90649878786, 51638.17031501369, 52568.15693634092, 54003.54934018112, 58394.40618369621, 63270.89248635672, 61098.678502803916, 61123.99179238117, 59787.54482973437, 63114.21496181464, 69641.78222899842, 72543.9589568851, 68784.10493367749, 63332.512488114546, 63497.25812519704, 61697.13534359311, 56028.67545870904, 60372.868115507415, 60045.67075672643, 64138.296556544265, 54970.404193406255, 54132.593657676975, 49740.653469615434, 43505.841867070485, 45809.89805704908, 47064.70477085818, 52223.308487646755, 53571.230181731626, 48350.16395036163, 51138.53657239926, 47768.19225300176, 50532.99876169471, 50267.946115424085, 53367.639749526556, 54159.965019741874, 47832.808048871804, 46794.24425969726, 48129.85550920497, 44056.7537003492, 40299.57183074326, 42151.90704636246, 42627.30590296774, 41447.50702159551, 42624.90802263675, 44957.69967266459, 45131.43500955017, 52633.29272522704, 48823.32831391317, 53420.69970745473, 46799.76366594077]\n"
     ]
    }
   ],
   "source": [
    "from qfin.simulations import StochasticVarianceModel\n",
    "# 100 - initial underlying asset price\n",
    "# 0 - underlying asset drift (mu)\n",
    "# .01 - risk free rate of interest\n",
    "# .05 - continuous dividend\n",
    "# 2 - rate in which variance reverts to the implied long run variance\n",
    "# .25 - implied long run variance as time tends to infinity\n",
    "# -.7 - correlation of motion generated\n",
    "# .3 - Variance's volatility\n",
    "# 1/52 - time steps (dt)\n",
    "# 1 - time to maturity (annum)\n",
    "svm = StochasticVarianceModel(56780, 0, .01, .05, 2, .25, -.7, .3, .09, 1/52, 1)\n",
    "print(svm.simulated_path)"
   ]
  },
  {
   "cell_type": "code",
   "execution_count": 19,
   "id": "b5e23f2f",
   "metadata": {},
   "outputs": [
    {
     "name": "stdout",
     "output_type": "stream",
     "text": [
      "7026.806097938205\n",
      "13616.948045555828\n"
     ]
    }
   ],
   "source": [
    "from qfin.simulations import MonteCarloCall\n",
    "from qfin.simulations import MonteCarloPut\n",
    "# 100 - strike price\n",
    "# 1000 - number of simulated price paths\n",
    "# .01 - risk free rate of interest\n",
    "# 100 - initial underlying asset price\n",
    "# 0 - underlying asset drift (mu)\n",
    "# .3 - underlying asset volatility\n",
    "# 1/52 - time steps (dt)\n",
    "# 1 - time to maturity (annum)\n",
    "call_option = MonteCarloCall(56780, 1000, .01, 56780, 0, .3, 1/52, 1)\n",
    "# These additional parameters will generate a Monte Carlo price based on a stochastic volatility process\n",
    "# 2 - rate in which variance reverts to the implied long run variance\n",
    "# .25 - implied long run variance as time tends to infinity\n",
    "# -.5 - correlation of motion generated\n",
    "# .02 - continuous dividend\n",
    "# .3 - Variance's volatility\n",
    "put_option = MonteCarloPut(56780, 1000, .01, 56780, 0, .3, 1/52, 1, 2, .25, -.5, .02, .3)\n",
    "print(call_option.price)\n",
    "print(put_option.price)"
   ]
  },
  {
   "cell_type": "code",
   "execution_count": null,
   "id": "4dfece75",
   "metadata": {},
   "outputs": [],
   "source": []
  },
  {
   "cell_type": "code",
   "execution_count": null,
   "id": "2820f718",
   "metadata": {},
   "outputs": [],
   "source": []
  },
  {
   "cell_type": "code",
   "execution_count": null,
   "id": "07c91f98",
   "metadata": {},
   "outputs": [],
   "source": []
  },
  {
   "cell_type": "code",
   "execution_count": null,
   "id": "f7013529",
   "metadata": {},
   "outputs": [],
   "source": []
  }
 ],
 "metadata": {
  "kernelspec": {
   "display_name": "Python 3 (ipykernel)",
   "language": "python",
   "name": "python3"
  },
  "language_info": {
   "codemirror_mode": {
    "name": "ipython",
    "version": 3
   },
   "file_extension": ".py",
   "mimetype": "text/x-python",
   "name": "python",
   "nbconvert_exporter": "python",
   "pygments_lexer": "ipython3",
   "version": "3.8.10"
  }
 },
 "nbformat": 4,
 "nbformat_minor": 5
}
